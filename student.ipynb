{
 "cells": [
  {
   "cell_type": "markdown",
   "metadata": {},
   "source": [
    "## Final Project Submission\n",
    "\n",
    "Please fill out:\n",
    "* Student name: Dylan Moonesar\n",
    "* Student pace: Self Paced\n",
    "* Instructor name: Morgan Jones\n",
    "\n",
    "# Project Overview:\n",
    "\n",
    "## Venture Opportunity:\n",
    "\n",
    "Following the recovery of many industries after the pandemic, including the original video creation; moreso the film industry. During the post-pandemic era we now find outrselves in, millions of movie goers have returned to in person experinces of going to watch movies again.\n",
    "\n",
    "## Client Insight:\n",
    "\n",
    "In light of many other large companies venturing into original video creation, Microsoft has entered this space as well by purchasing a movie studio. In order to make their movie studio successful, Microsoft will need to know what types of movies to produce.\n",
    "\n",
    "## Client Goals:\n",
    "\n",
    "This notebook focuses on these goals:\n",
    "   1. Postive Consumer Response\n",
    "   2. Overall Return on Investment (ROI)\n",
    "   3. Release Timing Of The Released Product \n",
    "   4. The Overall Run Time Of The Released Product \n",
    "  \n",
    "## Business Questions:\n",
    "\n",
    "This notebook focuses on several questions to help achieve the Client's Goals. The questions will be answered to resolve the goals. These questions are:\n",
    "\n",
    "   1. What are the genres to focus on? \n",
    "* The genres that are the most popular and well recieved by the audience will reveal what movies Microsoft should produce to make their movie studio successful.\n",
    "   2. Which genres have the best Return on Investment? \n",
    "* By figuring out which genres have the greatest Return on Investment, Microsoft can pair that with the best audience recieved genres to narrow down which movies will yeild the both positve feedback and great returns for profit.\n",
    "   3. What should be the expected intial investment?\n",
    "* By finding the budgets from the overlap of the two questions above, this will grant a more pinpoint accurate range on the initial amount Microsoft will need to invest into a profitable movie.\n",
    "   4. During what time of year should the movie be released?\n",
    "* The time of year can and has influenced when consumers actually consume the product, and by finding out when the average move goer goes to see movies, it'll suggest a window of time for Microsoft to push their product out to the public.\n",
    "   "
   ]
  },
  {
   "cell_type": "code",
   "execution_count": null,
   "metadata": {},
   "outputs": [],
   "source": []
  }
 ],
 "metadata": {
  "kernelspec": {
   "display_name": "Python 3",
   "language": "python",
   "name": "python3"
  },
  "language_info": {
   "codemirror_mode": {
    "name": "ipython",
    "version": 3
   },
   "file_extension": ".py",
   "mimetype": "text/x-python",
   "name": "python",
   "nbconvert_exporter": "python",
   "pygments_lexer": "ipython3",
   "version": "3.8.5"
  }
 },
 "nbformat": 4,
 "nbformat_minor": 2
}
